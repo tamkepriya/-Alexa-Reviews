{
 "cells": [
  {
   "cell_type": "code",
   "execution_count": 6,
   "id": "79f92186",
   "metadata": {},
   "outputs": [],
   "source": [
    "import spacy\n",
    "nlp = spacy.load('en_core_web_sm')\n",
    "\n",
    "import string\n",
    "punct = string.punctuation\n",
    "# punct\n",
    "\n",
    "from spacy.lang.en.stop_words import STOP_WORDS\n",
    "stopwords = list(STOP_WORDS) # list of stopwords\n",
    "\n",
    "class CustomTokenizer():\n",
    "    def __init__(self):\n",
    "        pass\n",
    "\n",
    "    def text_data_cleaning(self,sentence):\n",
    "        doc = nlp(sentence)                         # spaCy tokenize text & call doc components, in order\n",
    "\n",
    "        tokens = [] # list of tokens\n",
    "        for token in doc:\n",
    "            if token.lemma_ != \"-PRON-\":\n",
    "                temp = token.lemma_.lower().strip()\n",
    "            else:\n",
    "              temp = token.lower_\n",
    "            tokens.append(temp)\n",
    "\n",
    "        cleaned_tokens = []\n",
    "        for token in tokens:\n",
    "            if token not in stopwords and token not in punct:\n",
    "                cleaned_tokens.append(token)\n",
    "        return cleaned_tokens"
   ]
  },
  {
   "cell_type": "code",
   "execution_count": null,
   "id": "6dfba5fe",
   "metadata": {},
   "outputs": [],
   "source": []
  }
 ],
 "metadata": {
  "kernelspec": {
   "display_name": "Python 3 (ipykernel)",
   "language": "python",
   "name": "python3"
  },
  "language_info": {
   "codemirror_mode": {
    "name": "ipython",
    "version": 3
   },
   "file_extension": ".py",
   "mimetype": "text/x-python",
   "name": "python",
   "nbconvert_exporter": "python",
   "pygments_lexer": "ipython3",
   "version": "3.10.4"
  }
 },
 "nbformat": 4,
 "nbformat_minor": 5
}
